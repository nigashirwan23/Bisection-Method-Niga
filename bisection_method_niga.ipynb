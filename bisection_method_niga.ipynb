{
  "nbformat": 4,
  "nbformat_minor": 0,
  "metadata": {
    "colab": {
      "provenance": []
    },
    "kernelspec": {
      "name": "python3",
      "display_name": "Python 3"
    },
    "language_info": {
      "name": "python"
    }
  },
  "cells": [
    {
      "cell_type": "code",
      "execution_count": 4,
      "metadata": {
        "colab": {
          "base_uri": "https://localhost:8080/"
        },
        "id": "Apxiwt46wXEf",
        "outputId": "371b8163-e748-4c64-9feb-3d2d9bc5051e"
      },
      "outputs": [
        {
          "output_type": "stream",
          "name": "stdout",
          "text": [
            "Root is: 2.7064208984375\n"
          ]
        }
      ],
      "source": [
        "# Bisection Method in Python\n",
        "\n",
        "def f(x):\n",
        "    return x**3 - 4*x - 9  # ئەمە معادلەیەکی نمونەیە، دەتوانیت بگۆڕیت\n",
        "\n",
        "def bisection(a, b, tol):\n",
        "    if f(a) * f(b) >= 0:\n",
        "        print(\"Bisection method fails.\")\n",
        "        return None\n",
        "\n",
        "    c = a\n",
        "    while (b - a) / 2 > tol:\n",
        "        c = (a + b) / 2\n",
        "        if f(c) == 0:\n",
        "            break\n",
        "        elif f(a) * f(c) < 0:\n",
        "            b = c\n",
        "        else:\n",
        "            a = c\n",
        "    return c\n",
        "\n",
        "root = bisection(2, 3, 0.0001)\n",
        "print(\"Root is:\", root)\n"
      ]
    }
  ]
}